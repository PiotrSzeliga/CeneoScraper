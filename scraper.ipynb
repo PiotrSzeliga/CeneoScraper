{
 "cells": [
  {
   "cell_type": "markdown",
   "metadata": {},
   "source": [
    "## CeneoScraper"
   ]
  },
  {
   "cell_type": "markdown",
   "metadata": {},
   "source": [
    "## Biblioteki\n"
   ]
  },
  {
   "cell_type": "code",
   "execution_count": null,
   "metadata": {},
   "outputs": [],
   "source": [
    "import requests\n",
    "from bs4 import BeautifulSoup"
   ]
  },
  {
   "cell_type": "markdown",
   "metadata": {},
   "source": [
    "Wysyłanie żądania dostępu do zasobu serwera"
   ]
  },
  {
   "cell_type": "code",
   "execution_count": null,
   "metadata": {},
   "outputs": [],
   "source": [
    "product_id = \"114700014\"\n",
    "url = f\"https://www.ceneo.pl/{product_id}#tab=reviews\"\n",
    "response = requests.get(url)\n",
    "response.status_code"
   ]
  },
  {
   "cell_type": "code",
   "execution_count": null,
   "metadata": {},
   "outputs": [],
   "source": [
    "page_dom = BeautifulSoup(response.text, \"html.parser\")\n",
    "opinions = page_dom.select(\"div.js_product-review\")\n",
    "opinion = opinions.pop(0)\n",
    "print(type(opinion))\n",
    "print(opinion)\n"
   ]
  },
  {
   "cell_type": "markdown",
   "metadata": {},
   "source": [
    "## Ekstrakcja składowych pojedyńczej opinii\n",
    "|Składowe|Selector|Zmienna|\n",
    "|--------|--------|-------|\n",
    "|id opinii|[\"data-entry-id\"]|opinionn_id|\n",
    "|autor|span.user-post__author-name|author|\n",
    "|rekomendacja|span.user-post_author-name|recommendation|\n",
    "|gwiazdki|span.user-post__score-count|rating|\n",
    "|treść|div.user-post__text|content|\n",
    "|lista zalet|div.review-feature_title--positive ~ div.review-feature_item|pros|\n",
    "|lista wad|div.review-feature_title--negative ~ div.review-feature_item|cons|\n",
    "|dla ilu przydatna||usefull|\n",
    "|dla ilu nieprzydatna| |useless|\n",
    "|data wystawienia| |post_date|\n",
    "|data zakupu||purchase_date|"
   ]
  },
  {
   "cell_type": "code",
   "execution_count": null,
   "metadata": {},
   "outputs": [],
   "source": [
    "opinion_id = opinion[[\"data-entry-id\"]]\n"
   ]
  },
  {
   "cell_type": "markdown",
   "metadata": {},
   "source": [
    "# Zadanie 1"
   ]
  },
  {
   "cell_type": "markdown",
   "metadata": {},
   "source": []
  },
  {
   "cell_type": "markdown",
   "metadata": {},
   "source": [
    "\n"
   ]
  }
 ],
 "metadata": {
  "kernelspec": {
   "display_name": ".venv",
   "language": "python",
   "name": "python3"
  },
  "language_info": {
   "codemirror_mode": {
    "name": "ipython",
    "version": 3
   },
   "file_extension": ".py",
   "mimetype": "text/x-python",
   "name": "python",
   "nbconvert_exporter": "python",
   "pygments_lexer": "ipython3",
   "version": "3.11.8"
  }
 },
 "nbformat": 4,
 "nbformat_minor": 2
}
